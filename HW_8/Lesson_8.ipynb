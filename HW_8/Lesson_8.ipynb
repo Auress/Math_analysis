{
 "cells": [
  {
   "cell_type": "code",
   "execution_count": 1,
   "metadata": {},
   "outputs": [],
   "source": [
    "import numpy as np \n",
    "from scipy.optimize import fsolve"
   ]
  },
  {
   "cell_type": "code",
   "execution_count": 2,
   "metadata": {},
   "outputs": [],
   "source": [
    "def equations(p):\n",
    "    x, y = p\n",
    "    return (x**2 - y**2 + 3*x*y**3 - 2 * x**2 * y**2 + 2*x - 3*y -5,\n",
    "            3*y**3 - 2*x**2 + 2 * x**3 * y - 5 * x**2 * y**2 + 5)"
   ]
  },
  {
   "cell_type": "code",
   "execution_count": 3,
   "metadata": {},
   "outputs": [],
   "source": [
    "def solution():\n",
    "    result = []\n",
    "    roots = 5  # Количество искомых корней\n",
    "    j = 0 # Счетчик попыток\n",
    "    for i in sorted(np.linspace(-1000,1000,2001), key=abs):\n",
    "        (x, y), info, ier, mesg = fsolve(equations, (i, 10),\n",
    "                                         xtol=10**-10, full_output=True)\n",
    "        value = [round(x,9), round(y,9)]\n",
    "        if ier==1 and value not in result: # Отсеиваем некачественные результаты и повторы\n",
    "            result.append(value)\n",
    "        if len(result) >= roots:\n",
    "            break\n",
    "        j += 1\n",
    "    print(f'Количество попыток - {j}')\n",
    "    return result"
   ]
  },
  {
   "cell_type": "code",
   "execution_count": 4,
   "metadata": {},
   "outputs": [
    {
     "name": "stdout",
     "output_type": "stream",
     "text": [
      "Количество попыток - 52\n"
     ]
    },
    {
     "data": {
      "text/plain": [
       "[[1.37568714, -0.174757985],\n",
       " [1.273302065, 1.662039122],\n",
       " [2.217753639, 0.61019398],\n",
       " [-3.653079964, -0.274763419],\n",
       " [2.494356538, 0.708317522]]"
      ]
     },
     "execution_count": 4,
     "metadata": {},
     "output_type": "execute_result"
    }
   ],
   "source": [
    "solution()"
   ]
  },
  {
   "cell_type": "code",
   "execution_count": null,
   "metadata": {},
   "outputs": [],
   "source": []
  }
 ],
 "metadata": {
  "kernelspec": {
   "display_name": "Python 3",
   "language": "python",
   "name": "python3"
  },
  "language_info": {
   "codemirror_mode": {
    "name": "ipython",
    "version": 3
   },
   "file_extension": ".py",
   "mimetype": "text/x-python",
   "name": "python",
   "nbconvert_exporter": "python",
   "pygments_lexer": "ipython3",
   "version": "3.7.3"
  }
 },
 "nbformat": 4,
 "nbformat_minor": 2
}
